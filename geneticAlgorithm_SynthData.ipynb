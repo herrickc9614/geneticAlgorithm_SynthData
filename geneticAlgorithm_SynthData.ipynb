{
  "nbformat": 4,
  "nbformat_minor": 0,
  "metadata": {
    "colab": {
      "provenance": [],
      "authorship_tag": "ABX9TyN4fr0kM23ev623Z8cC4d9f",
      "include_colab_link": true
    },
    "kernelspec": {
      "name": "python3",
      "display_name": "Python 3"
    },
    "language_info": {
      "name": "python"
    }
  },
  "cells": [
    {
      "cell_type": "markdown",
      "metadata": {
        "id": "view-in-github",
        "colab_type": "text"
      },
      "source": [
        "<a href=\"https://colab.research.google.com/github/herrickc9614/geneticAlgorithm_SynthData/blob/main/geneticAlgorithm_SynthData.ipynb\" target=\"_parent\"><img src=\"https://colab.research.google.com/assets/colab-badge.svg\" alt=\"Open In Colab\"/></a>"
      ]
    },
    {
      "cell_type": "code",
      "source": [
        "import numpy as np\n",
        "import pandas as pd\n",
        "import warnings\n",
        "warnings.filterwarnings('ignore')\n",
        "\n",
        "import seaborn as sns\n",
        "\n",
        "from sklearn.feature_selection import SelectKBest, SelectPercentile, f_classif\n",
        "\n",
        "from sklearn.preprocessing import OrdinalEncoder\n",
        "\n",
        "from sklearn.model_selection import train_test_split\n",
        "from sklearn.model_selection import GridSearchCV\n",
        "from sklearn.model_selection import cross_validate\n",
        "from sklearn.model_selection import KFold\n",
        "\n",
        "from sklearn.preprocessing import StandardScaler\n",
        "\n",
        "from sklearn.feature_selection import RFE, RFECV, SequentialFeatureSelector\n",
        "\n",
        "from sklearn.linear_model import LogisticRegression\n",
        "from sklearn.svm import SVC\n",
        "from sklearn.tree import DecisionTreeClassifier, plot_tree, export_graphviz\n",
        "\n",
        "from sklearn import metrics\n",
        "from sklearn.metrics import confusion_matrix, ConfusionMatrixDisplay\n",
        "\n",
        "import matplotlib.pyplot as plt\n",
        "from sklearn.inspection import PartialDependenceDisplay"
      ],
      "metadata": {
        "id": "AQanza9esHa3"
      },
      "execution_count": 222,
      "outputs": []
    },
    {
      "cell_type": "markdown",
      "source": [
        "Import DataFrame from Kaggle"
      ],
      "metadata": {
        "id": "BawshONOs3_3"
      }
    },
    {
      "cell_type": "code",
      "execution_count": 221,
      "metadata": {
        "id": "Ltd-w-TN-RBE",
        "colab": {
          "base_uri": "https://localhost:8080/"
        },
        "outputId": "5d27fbd2-508f-4ec0-9e47-4a96064a7469"
      },
      "outputs": [
        {
          "output_type": "stream",
          "name": "stdout",
          "text": [
            "Requirement already satisfied: kagglehub in /usr/local/lib/python3.12/dist-packages (0.3.13)\n",
            "Requirement already satisfied: packaging in /usr/local/lib/python3.12/dist-packages (from kagglehub) (25.0)\n",
            "Requirement already satisfied: pyyaml in /usr/local/lib/python3.12/dist-packages (from kagglehub) (6.0.3)\n",
            "Requirement already satisfied: requests in /usr/local/lib/python3.12/dist-packages (from kagglehub) (2.32.4)\n",
            "Requirement already satisfied: tqdm in /usr/local/lib/python3.12/dist-packages (from kagglehub) (4.67.1)\n",
            "Requirement already satisfied: charset_normalizer<4,>=2 in /usr/local/lib/python3.12/dist-packages (from requests->kagglehub) (3.4.4)\n",
            "Requirement already satisfied: idna<4,>=2.5 in /usr/local/lib/python3.12/dist-packages (from requests->kagglehub) (3.11)\n",
            "Requirement already satisfied: urllib3<3,>=1.21.1 in /usr/local/lib/python3.12/dist-packages (from requests->kagglehub) (2.5.0)\n",
            "Requirement already satisfied: certifi>=2017.4.17 in /usr/local/lib/python3.12/dist-packages (from requests->kagglehub) (2025.10.5)\n",
            "Using Colab cache for faster access to the 'loan-approval-dataset' dataset.\n",
            "<class 'pandas.core.frame.DataFrame'>\n",
            "RangeIndex: 2000 entries, 0 to 1999\n",
            "Data columns (total 8 columns):\n",
            " #   Column          Non-Null Count  Dtype  \n",
            "---  ------          --------------  -----  \n",
            " 0   name            2000 non-null   object \n",
            " 1   city            2000 non-null   object \n",
            " 2   income          2000 non-null   int64  \n",
            " 3   credit_score    2000 non-null   int64  \n",
            " 4   loan_amount     2000 non-null   int64  \n",
            " 5   years_employed  2000 non-null   int64  \n",
            " 6   points          2000 non-null   float64\n",
            " 7   loan_approved   2000 non-null   bool   \n",
            "dtypes: bool(1), float64(1), int64(4), object(2)\n",
            "memory usage: 111.5+ KB\n"
          ]
        }
      ],
      "source": [
        "!pip install kagglehub\n",
        "import kagglehub\n",
        "\n",
        "#Anish Dev Edward\n",
        "#https://www.kaggle.com/datasets/anishdevedward/loan-approval-dataset/data\n",
        "path = kagglehub.dataset_download(\"anishdevedward/loan-approval-dataset\")\n",
        "df = pd.read_csv(f\"{path}/loan_approval.csv\")\n",
        "df.drop_duplicates()\n",
        "df.info()"
      ]
    },
    {
      "cell_type": "code",
      "source": [
        "df.describe()"
      ],
      "metadata": {
        "colab": {
          "base_uri": "https://localhost:8080/",
          "height": 300
        },
        "id": "3NnQ5KkFtK6v",
        "outputId": "550ddd64-cfde-4c8b-9735-c7876633c6ae"
      },
      "execution_count": null,
      "outputs": [
        {
          "output_type": "execute_result",
          "data": {
            "text/plain": [
              "              income  credit_score   loan_amount  years_employed       points\n",
              "count    2000.000000   2000.000000   2000.000000     2000.000000  2000.000000\n",
              "mean    90585.977000    573.946000  25308.503000       20.441000    56.680000\n",
              "std     34487.874907    160.564945  14207.320147       11.777813    18.638033\n",
              "min     30053.000000    300.000000   1022.000000        0.000000    10.000000\n",
              "25%     61296.250000    433.000000  12748.750000       10.000000    45.000000\n",
              "50%     90387.500000    576.000000  25661.500000       21.000000    55.000000\n",
              "75%    120099.750000    715.000000  37380.500000       31.000000    70.000000\n",
              "max    149964.000000    850.000000  49999.000000       40.000000   100.000000"
            ],
            "text/html": [
              "\n",
              "  <div id=\"df-4c6339f3-2956-4006-8bb2-63c84c1a4a5a\" class=\"colab-df-container\">\n",
              "    <div>\n",
              "<style scoped>\n",
              "    .dataframe tbody tr th:only-of-type {\n",
              "        vertical-align: middle;\n",
              "    }\n",
              "\n",
              "    .dataframe tbody tr th {\n",
              "        vertical-align: top;\n",
              "    }\n",
              "\n",
              "    .dataframe thead th {\n",
              "        text-align: right;\n",
              "    }\n",
              "</style>\n",
              "<table border=\"1\" class=\"dataframe\">\n",
              "  <thead>\n",
              "    <tr style=\"text-align: right;\">\n",
              "      <th></th>\n",
              "      <th>income</th>\n",
              "      <th>credit_score</th>\n",
              "      <th>loan_amount</th>\n",
              "      <th>years_employed</th>\n",
              "      <th>points</th>\n",
              "    </tr>\n",
              "  </thead>\n",
              "  <tbody>\n",
              "    <tr>\n",
              "      <th>count</th>\n",
              "      <td>2000.000000</td>\n",
              "      <td>2000.000000</td>\n",
              "      <td>2000.000000</td>\n",
              "      <td>2000.000000</td>\n",
              "      <td>2000.000000</td>\n",
              "    </tr>\n",
              "    <tr>\n",
              "      <th>mean</th>\n",
              "      <td>90585.977000</td>\n",
              "      <td>573.946000</td>\n",
              "      <td>25308.503000</td>\n",
              "      <td>20.441000</td>\n",
              "      <td>56.680000</td>\n",
              "    </tr>\n",
              "    <tr>\n",
              "      <th>std</th>\n",
              "      <td>34487.874907</td>\n",
              "      <td>160.564945</td>\n",
              "      <td>14207.320147</td>\n",
              "      <td>11.777813</td>\n",
              "      <td>18.638033</td>\n",
              "    </tr>\n",
              "    <tr>\n",
              "      <th>min</th>\n",
              "      <td>30053.000000</td>\n",
              "      <td>300.000000</td>\n",
              "      <td>1022.000000</td>\n",
              "      <td>0.000000</td>\n",
              "      <td>10.000000</td>\n",
              "    </tr>\n",
              "    <tr>\n",
              "      <th>25%</th>\n",
              "      <td>61296.250000</td>\n",
              "      <td>433.000000</td>\n",
              "      <td>12748.750000</td>\n",
              "      <td>10.000000</td>\n",
              "      <td>45.000000</td>\n",
              "    </tr>\n",
              "    <tr>\n",
              "      <th>50%</th>\n",
              "      <td>90387.500000</td>\n",
              "      <td>576.000000</td>\n",
              "      <td>25661.500000</td>\n",
              "      <td>21.000000</td>\n",
              "      <td>55.000000</td>\n",
              "    </tr>\n",
              "    <tr>\n",
              "      <th>75%</th>\n",
              "      <td>120099.750000</td>\n",
              "      <td>715.000000</td>\n",
              "      <td>37380.500000</td>\n",
              "      <td>31.000000</td>\n",
              "      <td>70.000000</td>\n",
              "    </tr>\n",
              "    <tr>\n",
              "      <th>max</th>\n",
              "      <td>149964.000000</td>\n",
              "      <td>850.000000</td>\n",
              "      <td>49999.000000</td>\n",
              "      <td>40.000000</td>\n",
              "      <td>100.000000</td>\n",
              "    </tr>\n",
              "  </tbody>\n",
              "</table>\n",
              "</div>\n",
              "    <div class=\"colab-df-buttons\">\n",
              "\n",
              "  <div class=\"colab-df-container\">\n",
              "    <button class=\"colab-df-convert\" onclick=\"convertToInteractive('df-4c6339f3-2956-4006-8bb2-63c84c1a4a5a')\"\n",
              "            title=\"Convert this dataframe to an interactive table.\"\n",
              "            style=\"display:none;\">\n",
              "\n",
              "  <svg xmlns=\"http://www.w3.org/2000/svg\" height=\"24px\" viewBox=\"0 -960 960 960\">\n",
              "    <path d=\"M120-120v-720h720v720H120Zm60-500h600v-160H180v160Zm220 220h160v-160H400v160Zm0 220h160v-160H400v160ZM180-400h160v-160H180v160Zm440 0h160v-160H620v160ZM180-180h160v-160H180v160Zm440 0h160v-160H620v160Z\"/>\n",
              "  </svg>\n",
              "    </button>\n",
              "\n",
              "  <style>\n",
              "    .colab-df-container {\n",
              "      display:flex;\n",
              "      gap: 12px;\n",
              "    }\n",
              "\n",
              "    .colab-df-convert {\n",
              "      background-color: #E8F0FE;\n",
              "      border: none;\n",
              "      border-radius: 50%;\n",
              "      cursor: pointer;\n",
              "      display: none;\n",
              "      fill: #1967D2;\n",
              "      height: 32px;\n",
              "      padding: 0 0 0 0;\n",
              "      width: 32px;\n",
              "    }\n",
              "\n",
              "    .colab-df-convert:hover {\n",
              "      background-color: #E2EBFA;\n",
              "      box-shadow: 0px 1px 2px rgba(60, 64, 67, 0.3), 0px 1px 3px 1px rgba(60, 64, 67, 0.15);\n",
              "      fill: #174EA6;\n",
              "    }\n",
              "\n",
              "    .colab-df-buttons div {\n",
              "      margin-bottom: 4px;\n",
              "    }\n",
              "\n",
              "    [theme=dark] .colab-df-convert {\n",
              "      background-color: #3B4455;\n",
              "      fill: #D2E3FC;\n",
              "    }\n",
              "\n",
              "    [theme=dark] .colab-df-convert:hover {\n",
              "      background-color: #434B5C;\n",
              "      box-shadow: 0px 1px 3px 1px rgba(0, 0, 0, 0.15);\n",
              "      filter: drop-shadow(0px 1px 2px rgba(0, 0, 0, 0.3));\n",
              "      fill: #FFFFFF;\n",
              "    }\n",
              "  </style>\n",
              "\n",
              "    <script>\n",
              "      const buttonEl =\n",
              "        document.querySelector('#df-4c6339f3-2956-4006-8bb2-63c84c1a4a5a button.colab-df-convert');\n",
              "      buttonEl.style.display =\n",
              "        google.colab.kernel.accessAllowed ? 'block' : 'none';\n",
              "\n",
              "      async function convertToInteractive(key) {\n",
              "        const element = document.querySelector('#df-4c6339f3-2956-4006-8bb2-63c84c1a4a5a');\n",
              "        const dataTable =\n",
              "          await google.colab.kernel.invokeFunction('convertToInteractive',\n",
              "                                                    [key], {});\n",
              "        if (!dataTable) return;\n",
              "\n",
              "        const docLinkHtml = 'Like what you see? Visit the ' +\n",
              "          '<a target=\"_blank\" href=https://colab.research.google.com/notebooks/data_table.ipynb>data table notebook</a>'\n",
              "          + ' to learn more about interactive tables.';\n",
              "        element.innerHTML = '';\n",
              "        dataTable['output_type'] = 'display_data';\n",
              "        await google.colab.output.renderOutput(dataTable, element);\n",
              "        const docLink = document.createElement('div');\n",
              "        docLink.innerHTML = docLinkHtml;\n",
              "        element.appendChild(docLink);\n",
              "      }\n",
              "    </script>\n",
              "  </div>\n",
              "\n",
              "\n",
              "    <div id=\"df-144ee442-8bc0-4ca3-ad93-30de73502294\">\n",
              "      <button class=\"colab-df-quickchart\" onclick=\"quickchart('df-144ee442-8bc0-4ca3-ad93-30de73502294')\"\n",
              "                title=\"Suggest charts\"\n",
              "                style=\"display:none;\">\n",
              "\n",
              "<svg xmlns=\"http://www.w3.org/2000/svg\" height=\"24px\"viewBox=\"0 0 24 24\"\n",
              "     width=\"24px\">\n",
              "    <g>\n",
              "        <path d=\"M19 3H5c-1.1 0-2 .9-2 2v14c0 1.1.9 2 2 2h14c1.1 0 2-.9 2-2V5c0-1.1-.9-2-2-2zM9 17H7v-7h2v7zm4 0h-2V7h2v10zm4 0h-2v-4h2v4z\"/>\n",
              "    </g>\n",
              "</svg>\n",
              "      </button>\n",
              "\n",
              "<style>\n",
              "  .colab-df-quickchart {\n",
              "      --bg-color: #E8F0FE;\n",
              "      --fill-color: #1967D2;\n",
              "      --hover-bg-color: #E2EBFA;\n",
              "      --hover-fill-color: #174EA6;\n",
              "      --disabled-fill-color: #AAA;\n",
              "      --disabled-bg-color: #DDD;\n",
              "  }\n",
              "\n",
              "  [theme=dark] .colab-df-quickchart {\n",
              "      --bg-color: #3B4455;\n",
              "      --fill-color: #D2E3FC;\n",
              "      --hover-bg-color: #434B5C;\n",
              "      --hover-fill-color: #FFFFFF;\n",
              "      --disabled-bg-color: #3B4455;\n",
              "      --disabled-fill-color: #666;\n",
              "  }\n",
              "\n",
              "  .colab-df-quickchart {\n",
              "    background-color: var(--bg-color);\n",
              "    border: none;\n",
              "    border-radius: 50%;\n",
              "    cursor: pointer;\n",
              "    display: none;\n",
              "    fill: var(--fill-color);\n",
              "    height: 32px;\n",
              "    padding: 0;\n",
              "    width: 32px;\n",
              "  }\n",
              "\n",
              "  .colab-df-quickchart:hover {\n",
              "    background-color: var(--hover-bg-color);\n",
              "    box-shadow: 0 1px 2px rgba(60, 64, 67, 0.3), 0 1px 3px 1px rgba(60, 64, 67, 0.15);\n",
              "    fill: var(--button-hover-fill-color);\n",
              "  }\n",
              "\n",
              "  .colab-df-quickchart-complete:disabled,\n",
              "  .colab-df-quickchart-complete:disabled:hover {\n",
              "    background-color: var(--disabled-bg-color);\n",
              "    fill: var(--disabled-fill-color);\n",
              "    box-shadow: none;\n",
              "  }\n",
              "\n",
              "  .colab-df-spinner {\n",
              "    border: 2px solid var(--fill-color);\n",
              "    border-color: transparent;\n",
              "    border-bottom-color: var(--fill-color);\n",
              "    animation:\n",
              "      spin 1s steps(1) infinite;\n",
              "  }\n",
              "\n",
              "  @keyframes spin {\n",
              "    0% {\n",
              "      border-color: transparent;\n",
              "      border-bottom-color: var(--fill-color);\n",
              "      border-left-color: var(--fill-color);\n",
              "    }\n",
              "    20% {\n",
              "      border-color: transparent;\n",
              "      border-left-color: var(--fill-color);\n",
              "      border-top-color: var(--fill-color);\n",
              "    }\n",
              "    30% {\n",
              "      border-color: transparent;\n",
              "      border-left-color: var(--fill-color);\n",
              "      border-top-color: var(--fill-color);\n",
              "      border-right-color: var(--fill-color);\n",
              "    }\n",
              "    40% {\n",
              "      border-color: transparent;\n",
              "      border-right-color: var(--fill-color);\n",
              "      border-top-color: var(--fill-color);\n",
              "    }\n",
              "    60% {\n",
              "      border-color: transparent;\n",
              "      border-right-color: var(--fill-color);\n",
              "    }\n",
              "    80% {\n",
              "      border-color: transparent;\n",
              "      border-right-color: var(--fill-color);\n",
              "      border-bottom-color: var(--fill-color);\n",
              "    }\n",
              "    90% {\n",
              "      border-color: transparent;\n",
              "      border-bottom-color: var(--fill-color);\n",
              "    }\n",
              "  }\n",
              "</style>\n",
              "\n",
              "      <script>\n",
              "        async function quickchart(key) {\n",
              "          const quickchartButtonEl =\n",
              "            document.querySelector('#' + key + ' button');\n",
              "          quickchartButtonEl.disabled = true;  // To prevent multiple clicks.\n",
              "          quickchartButtonEl.classList.add('colab-df-spinner');\n",
              "          try {\n",
              "            const charts = await google.colab.kernel.invokeFunction(\n",
              "                'suggestCharts', [key], {});\n",
              "          } catch (error) {\n",
              "            console.error('Error during call to suggestCharts:', error);\n",
              "          }\n",
              "          quickchartButtonEl.classList.remove('colab-df-spinner');\n",
              "          quickchartButtonEl.classList.add('colab-df-quickchart-complete');\n",
              "        }\n",
              "        (() => {\n",
              "          let quickchartButtonEl =\n",
              "            document.querySelector('#df-144ee442-8bc0-4ca3-ad93-30de73502294 button');\n",
              "          quickchartButtonEl.style.display =\n",
              "            google.colab.kernel.accessAllowed ? 'block' : 'none';\n",
              "        })();\n",
              "      </script>\n",
              "    </div>\n",
              "\n",
              "    </div>\n",
              "  </div>\n"
            ],
            "application/vnd.google.colaboratory.intrinsic+json": {
              "type": "dataframe",
              "summary": "{\n  \"name\": \"df\",\n  \"rows\": 8,\n  \"fields\": [\n    {\n      \"column\": \"income\",\n      \"properties\": {\n        \"dtype\": \"number\",\n        \"std\": 49649.85657878409,\n        \"min\": 2000.0,\n        \"max\": 149964.0,\n        \"num_unique_values\": 8,\n        \"samples\": [\n          90585.977,\n          90387.5,\n          2000.0\n        ],\n        \"semantic_type\": \"\",\n        \"description\": \"\"\n      }\n    },\n    {\n      \"column\": \"credit_score\",\n      \"properties\": {\n        \"dtype\": \"number\",\n        \"std\": 568.9916814246941,\n        \"min\": 160.56494522409747,\n        \"max\": 2000.0,\n        \"num_unique_values\": 8,\n        \"samples\": [\n          573.946,\n          576.0,\n          2000.0\n        ],\n        \"semantic_type\": \"\",\n        \"description\": \"\"\n      }\n    },\n    {\n      \"column\": \"loan_amount\",\n      \"properties\": {\n        \"dtype\": \"number\",\n        \"std\": 17003.723368428073,\n        \"min\": 1022.0,\n        \"max\": 49999.0,\n        \"num_unique_values\": 8,\n        \"samples\": [\n          25308.503,\n          25661.5,\n          2000.0\n        ],\n        \"semantic_type\": \"\",\n        \"description\": \"\"\n      }\n    },\n    {\n      \"column\": \"years_employed\",\n      \"properties\": {\n        \"dtype\": \"number\",\n        \"std\": 700.4383636261385,\n        \"min\": 0.0,\n        \"max\": 2000.0,\n        \"num_unique_values\": 8,\n        \"samples\": [\n          20.441,\n          21.0,\n          2000.0\n        ],\n        \"semantic_type\": \"\",\n        \"description\": \"\"\n      }\n    },\n    {\n      \"column\": \"points\",\n      \"properties\": {\n        \"dtype\": \"number\",\n        \"std\": 689.7380060464541,\n        \"min\": 10.0,\n        \"max\": 2000.0,\n        \"num_unique_values\": 8,\n        \"samples\": [\n          56.68,\n          55.0,\n          2000.0\n        ],\n        \"semantic_type\": \"\",\n        \"description\": \"\"\n      }\n    }\n  ]\n}"
            }
          },
          "metadata": {},
          "execution_count": 193
        }
      ]
    },
    {
      "cell_type": "markdown",
      "source": [
        "Convert Boolean Values into Ints"
      ],
      "metadata": {
        "id": "MMzRpRDzuFyI"
      }
    },
    {
      "cell_type": "code",
      "source": [
        "df[\"loan_approved\"] = df[\"loan_approved\"].astype(int)"
      ],
      "metadata": {
        "id": "H68-A73quLhz"
      },
      "execution_count": null,
      "outputs": []
    },
    {
      "cell_type": "markdown",
      "source": [
        "Classify Collumns Between Input and Output"
      ],
      "metadata": {
        "id": "ipiP66_kszvf"
      }
    },
    {
      "cell_type": "code",
      "source": [
        "X = df[['income', 'credit_score', 'loan_amount', 'years_employed', 'points']]\n",
        "y = df[['loan_approved']]"
      ],
      "metadata": {
        "id": "xrHXXlO3qEbf"
      },
      "execution_count": null,
      "outputs": []
    },
    {
      "cell_type": "markdown",
      "source": [
        "Standardize Data"
      ],
      "metadata": {
        "id": "TRDlhPErt0hb"
      }
    },
    {
      "cell_type": "code",
      "source": [
        "#Scaled X for future use if needed\n",
        "scaler = StandardScaler()\n",
        "X = pd.DataFrame(scaler.fit_transform(X), columns=X.columns)"
      ],
      "metadata": {
        "id": "D3H36k6ZrOr4"
      },
      "execution_count": null,
      "outputs": []
    },
    {
      "cell_type": "markdown",
      "source": [
        "Feature Selection"
      ],
      "metadata": {
        "id": "3Ok5o5fGvy-x"
      }
    },
    {
      "cell_type": "code",
      "source": [
        "# Perform feature selection using the SelectPercentile function\n",
        "model_percent = SelectPercentile(score_func=f_classif, percentile=65)\n",
        "X_new_percent = model_percent.fit_transform(X, np.ravel(y))"
      ],
      "metadata": {
        "id": "J7QGXWyEv0_V"
      },
      "execution_count": null,
      "outputs": []
    },
    {
      "cell_type": "code",
      "source": [
        "# Get features selected by each function\n",
        "filter_percent = model_percent.get_support()\n",
        "\n",
        "# Get input feature names\n",
        "features = np.array(X.columns)"
      ],
      "metadata": {
        "id": "Rp78ARHmv2yi"
      },
      "execution_count": null,
      "outputs": []
    },
    {
      "cell_type": "code",
      "source": [
        "features[filter_percent]"
      ],
      "metadata": {
        "colab": {
          "base_uri": "https://localhost:8080/"
        },
        "id": "ppuEpObOv5sE",
        "outputId": "039e33a0-6e05-47ed-8042-3b8aaeb832cf"
      },
      "execution_count": null,
      "outputs": [
        {
          "output_type": "execute_result",
          "data": {
            "text/plain": [
              "array(['income', 'credit_score', 'points'], dtype=object)"
            ]
          },
          "metadata": {},
          "execution_count": 199
        }
      ]
    },
    {
      "cell_type": "code",
      "source": [
        "X = X[['income', 'credit_score', 'points']]"
      ],
      "metadata": {
        "id": "H8hhwuF5wDeg"
      },
      "execution_count": null,
      "outputs": []
    },
    {
      "cell_type": "markdown",
      "source": [
        "Divide the Dataset"
      ],
      "metadata": {
        "id": "RzKcWmzswKPZ"
      }
    },
    {
      "cell_type": "code",
      "source": [
        "X_train, X_test, y_train, y_test = train_test_split(X, y, test_size=0.1, random_state=123)\n",
        "X_train, X_val, y_train, y_val = train_test_split(X_train, y_train, test_size=0.1/(1-0.1), random_state=124)"
      ],
      "metadata": {
        "id": "wnpx_Jk3wTmE"
      },
      "execution_count": null,
      "outputs": []
    },
    {
      "cell_type": "markdown",
      "source": [
        "Replace TrainingSet With Synthetic Data"
      ],
      "metadata": {
        "id": "6s9CcIOuzMq9"
      }
    },
    {
      "cell_type": "code",
      "source": [],
      "metadata": {
        "id": "VIEcVTcx0-0J"
      },
      "execution_count": null,
      "outputs": []
    },
    {
      "cell_type": "markdown",
      "source": [
        "Logistic Regression:"
      ],
      "metadata": {
        "id": "0xSRvMwCwhFE"
      }
    },
    {
      "cell_type": "code",
      "source": [
        "regModel = LogisticRegression()"
      ],
      "metadata": {
        "id": "RxooJxhzwjlc"
      },
      "execution_count": null,
      "outputs": []
    },
    {
      "cell_type": "code",
      "source": [
        "# Create tuning grid\n",
        "params = {'penalty': [None, 'l1', 'l2'],\n",
        "          'max_iter': [10, 20, 30, 40, 50, 60, 70, 80, 90, 100, 200, 500, 1000, 10000, 100000]}\n",
        "\n",
        "# Initialize tuning grid and fit to training data\n",
        "regTuning = GridSearchCV(regModel, params)\n",
        "regTuning.fit(X_val, np.ravel(y_val))\n",
        "\n",
        "print('Best estimator:', regTuning.best_estimator_)"
      ],
      "metadata": {
        "colab": {
          "base_uri": "https://localhost:8080/"
        },
        "id": "DAbZDkp_wlwM",
        "outputId": "f77df705-b3d8-4c98-8476-35fef020c36e"
      },
      "execution_count": null,
      "outputs": [
        {
          "output_type": "stream",
          "name": "stdout",
          "text": [
            "Best estimator: LogisticRegression(max_iter=10, penalty=None)\n"
          ]
        }
      ]
    },
    {
      "cell_type": "code",
      "source": [
        "regModel.set_params(max_iter=10, penalty=None)\n",
        "regModel.fit(X_train, y_train)\n",
        "regModel.score(X_test, y_test)"
      ],
      "metadata": {
        "colab": {
          "base_uri": "https://localhost:8080/"
        },
        "id": "7Dz4lQtSwqGO",
        "outputId": "26262861-3ba7-4dc0-a0c5-963fba8f8602"
      },
      "execution_count": null,
      "outputs": [
        {
          "output_type": "execute_result",
          "data": {
            "text/plain": [
              "1.0"
            ]
          },
          "metadata": {},
          "execution_count": 204
        }
      ]
    },
    {
      "cell_type": "code",
      "source": [
        "y_pred = regModel.predict(X_test)\n",
        "\n",
        "cm = confusion_matrix(y_test,y_pred)\n",
        "ConfusionMatrixDisplay(cm).plot()"
      ],
      "metadata": {
        "colab": {
          "base_uri": "https://localhost:8080/",
          "height": 466
        },
        "id": "DvyGRKflw67D",
        "outputId": "99d8f91b-5081-4590-ec2b-2d4aa4c934ce"
      },
      "execution_count": null,
      "outputs": [
        {
          "output_type": "execute_result",
          "data": {
            "text/plain": [
              "<sklearn.metrics._plot.confusion_matrix.ConfusionMatrixDisplay at 0x7c50122edac0>"
            ]
          },
          "metadata": {},
          "execution_count": 205
        },
        {
          "output_type": "display_data",
          "data": {
            "text/plain": [
              "<Figure size 640x480 with 2 Axes>"
            ],
            "image/png": "[encoded data removed]"
          },
          "metadata": {}
        }
      ]
    },
    {
      "cell_type": "code",
      "source": [
        "print(\"LR model accuracy:\", metrics.accuracy_score(y_test, y_pred))\n",
        "print(\"LR model precision:\", metrics.precision_score(y_test, y_pred, average='micro'))\n",
        "print(\"LR model recall:\", metrics.recall_score(y_test, y_pred, average='micro'))\n",
        "print(\"LR model kappa:\", metrics.cohen_kappa_score(y_test, y_pred))"
      ],
      "metadata": {
        "colab": {
          "base_uri": "https://localhost:8080/"
        },
        "id": "tgojYNPgw-Np",
        "outputId": "b4bdd6db-234f-4263-aff8-165ef597410c"
      },
      "execution_count": null,
      "outputs": [
        {
          "output_type": "stream",
          "name": "stdout",
          "text": [
            "LR model accuracy: 1.0\n",
            "LR model precision: 1.0\n",
            "LR model recall: 1.0\n",
            "LR model kappa: 1.0\n"
          ]
        }
      ]
    },
    {
      "cell_type": "markdown",
      "source": [
        "Decision Tree Classifier:"
      ],
      "metadata": {
        "id": "rj1-jbnpxzh9"
      }
    },
    {
      "cell_type": "code",
      "source": [
        "treeModel = DecisionTreeClassifier()"
      ],
      "metadata": {
        "id": "CoCriHWwx5uY"
      },
      "execution_count": null,
      "outputs": []
    },
    {
      "cell_type": "code",
      "source": [
        "# Create tuning grid\n",
        "params = {'max_depth': [15, 16, 17, 18, 19, 20, 25],\n",
        "          'min_samples_split': [10, 15, 20, 25, 30],\n",
        "          'min_samples_leaf': [2, 3, 4, 5],\n",
        "          'max_leaf_nodes': [70, 80, 90, 100]}\n",
        "\n",
        "# Initialize tuning grid and fit to training data\n",
        "treeTuning = GridSearchCV(treeModel, params)\n",
        "treeTuning.fit(X_val, np.ravel(y_val))\n",
        "\n",
        "print('Best estimator:', treeTuning.best_estimator_)"
      ],
      "metadata": {
        "colab": {
          "base_uri": "https://localhost:8080/"
        },
        "id": "uVSUdEp0x22n",
        "outputId": "89c7ca4b-5fa3-4aa0-9f0b-d6823a931cdc"
      },
      "execution_count": null,
      "outputs": [
        {
          "output_type": "stream",
          "name": "stdout",
          "text": [
            "Best estimator: DecisionTreeClassifier(max_depth=15, max_leaf_nodes=70, min_samples_leaf=2,\n",
            "                       min_samples_split=10)\n"
          ]
        }
      ]
    },
    {
      "cell_type": "code",
      "source": [
        "treeModel.set_params(max_depth=15, max_leaf_nodes=70, min_samples_leaf=2,\n",
        "                       min_samples_split=10)\n",
        "treeModel.fit(X_train, y_train)\n",
        "treeModel.score(X_test, y_test)"
      ],
      "metadata": {
        "colab": {
          "base_uri": "https://localhost:8080/"
        },
        "id": "IxDVFvPvx9g2",
        "outputId": "04f161f3-28db-4a30-c084-07f8069d4956"
      },
      "execution_count": null,
      "outputs": [
        {
          "output_type": "execute_result",
          "data": {
            "text/plain": [
              "1.0"
            ]
          },
          "metadata": {},
          "execution_count": 209
        }
      ]
    },
    {
      "cell_type": "code",
      "source": [
        "y_pred = treeModel.predict(X_test)\n",
        "\n",
        "cm = confusion_matrix(y_test,y_pred)\n",
        "ConfusionMatrixDisplay(cm).plot()"
      ],
      "metadata": {
        "colab": {
          "base_uri": "https://localhost:8080/",
          "height": 466
        },
        "id": "NWqJvf_fyFEs",
        "outputId": "71df1525-9f52-4161-e559-4cd5ac13c458"
      },
      "execution_count": null,
      "outputs": [
        {
          "output_type": "execute_result",
          "data": {
            "text/plain": [
              "<sklearn.metrics._plot.confusion_matrix.ConfusionMatrixDisplay at 0x7c5011ffc260>"
            ]
          },
          "metadata": {},
          "execution_count": 210
        },
        {
          "output_type": "display_data",
          "data": {
            "text/plain": [
              "<Figure size 640x480 with 2 Axes>"
            ],
            "image/png": "[encoded data removed]"
          },
          "metadata": {}
        }
      ]
    },
    {
      "cell_type": "code",
      "source": [
        "print(\"Tree model accuracy:\", metrics.accuracy_score(y_test, y_pred))\n",
        "print(\"Tree model precision:\", metrics.precision_score(y_test, y_pred, average='micro'))\n",
        "print(\"Tree model recall:\", metrics.recall_score(y_test, y_pred, average='micro'))\n",
        "print(\"Tree model kappa:\", metrics.cohen_kappa_score(y_test, y_pred))"
      ],
      "metadata": {
        "colab": {
          "base_uri": "https://localhost:8080/"
        },
        "id": "JfsH5e0oyHHd",
        "outputId": "2c7146c8-9b99-4091-d95a-67334c968d08"
      },
      "execution_count": null,
      "outputs": [
        {
          "output_type": "stream",
          "name": "stdout",
          "text": [
            "Tree model accuracy: 1.0\n",
            "Tree model precision: 1.0\n",
            "Tree model recall: 1.0\n",
            "Tree model kappa: 1.0\n"
          ]
        }
      ]
    },
    {
      "cell_type": "markdown",
      "source": [
        "SVC:"
      ],
      "metadata": {
        "id": "w2tgnUIzyKwD"
      }
    },
    {
      "cell_type": "code",
      "source": [
        "svcModel = SVC()"
      ],
      "metadata": {
        "id": "65cmPck0yNne"
      },
      "execution_count": null,
      "outputs": []
    },
    {
      "cell_type": "code",
      "source": [
        "# Create tuning grid\n",
        "params = {'max_iter': [10, 20, 30, 40, 50, 60, 70, 80, 90, 100, 200, 500, 1000, 5000, 10000],\n",
        "          'C': [1, 2, 3, 4, 5, 6, 7, 8, 9, 10]}\n",
        "\n",
        "# Initialize tuning grid and fit to training data\n",
        "svcTuning = GridSearchCV(svcModel, params)\n",
        "svcTuning.fit(X_val, np.ravel(y_val))\n",
        "\n",
        "print('Best estimator:', svcTuning.best_estimator_)"
      ],
      "metadata": {
        "colab": {
          "base_uri": "https://localhost:8080/"
        },
        "id": "bigsRCigyPFV",
        "outputId": "9cc097fd-1958-4e50-b236-62144cf4fd52"
      },
      "execution_count": null,
      "outputs": [
        {
          "output_type": "stream",
          "name": "stdout",
          "text": [
            "Best estimator: SVC(C=5, max_iter=60)\n"
          ]
        }
      ]
    },
    {
      "cell_type": "code",
      "source": [
        "svcModel.set_params(C=5, max_iter=50)\n",
        "svcModel.fit(X_train, y_train)\n",
        "svcModel.score(X_test, y_test)"
      ],
      "metadata": {
        "colab": {
          "base_uri": "https://localhost:8080/"
        },
        "id": "0xvZQndJyRM2",
        "outputId": "151c7566-3be7-4f0d-e478-7fa3294db00a"
      },
      "execution_count": null,
      "outputs": [
        {
          "output_type": "execute_result",
          "data": {
            "text/plain": [
              "1.0"
            ]
          },
          "metadata": {},
          "execution_count": 214
        }
      ]
    },
    {
      "cell_type": "code",
      "source": [
        "y_pred = svcModel.predict(X_test)\n",
        "\n",
        "cm = confusion_matrix(y_test,y_pred)\n",
        "ConfusionMatrixDisplay(cm).plot()"
      ],
      "metadata": {
        "colab": {
          "base_uri": "https://localhost:8080/",
          "height": 466
        },
        "id": "qI4JRRPHyVxb",
        "outputId": "eb6f365a-56cb-4fd3-ee96-b6c2d63c5a42"
      },
      "execution_count": null,
      "outputs": [
        {
          "output_type": "execute_result",
          "data": {
            "text/plain": [
              "<sklearn.metrics._plot.confusion_matrix.ConfusionMatrixDisplay at 0x7c501739c740>"
            ]
          },
          "metadata": {},
          "execution_count": 215
        },
        {
          "output_type": "display_data",
          "data": {
            "text/plain": [
              "<Figure size 640x480 with 2 Axes>"
            ],
            "image/png": "[encoded data removed]"
          },
          "metadata": {}
        }
      ]
    },
    {
      "cell_type": "code",
      "source": [
        "print(\"SVC model accuracy:\", metrics.accuracy_score(y_test, y_pred))\n",
        "print(\"SVC model precision:\", metrics.precision_score(y_test, y_pred, average='micro'))\n",
        "print(\"SVC model recall:\", metrics.recall_score(y_test, y_pred, average='micro'))\n",
        "print(\"SVC model kappa:\", metrics.cohen_kappa_score(y_test, y_pred))"
      ],
      "metadata": {
        "colab": {
          "base_uri": "https://localhost:8080/"
        },
        "id": "o6eaF2skyaZt",
        "outputId": "7fbbbe3e-9ce8-4577-b35e-f8c366e8e471"
      },
      "execution_count": null,
      "outputs": [
        {
          "output_type": "stream",
          "name": "stdout",
          "text": [
            "SVC model accuracy: 1.0\n",
            "SVC model precision: 1.0\n",
            "SVC model recall: 1.0\n",
            "SVC model kappa: 1.0\n"
          ]
        }
      ]
    },
    {
      "cell_type": "markdown",
      "source": [
        "Comparing the models"
      ],
      "metadata": {
        "id": "f81qHGfOyclC"
      }
    },
    {
      "cell_type": "code",
      "source": [
        "kf = KFold(n_splits=10, random_state=19, shuffle=True)"
      ],
      "metadata": {
        "id": "Qj9huyNRye_H"
      },
      "execution_count": null,
      "outputs": []
    },
    {
      "cell_type": "code",
      "source": [
        "regResults = cross_validate(regModel, X_train, np.ravel(y_train), cv=kf)\n",
        "regScores = regResults['test_score']\n",
        "\n",
        "print('LR scores:', regScores.round(3))\n",
        "print('LR Mean:', regScores.mean().round(3))\n",
        "print('LR SD:', regScores.std().round(3))"
      ],
      "metadata": {
        "colab": {
          "base_uri": "https://localhost:8080/"
        },
        "id": "SqAIZU5uygPg",
        "outputId": "0b007b59-16bf-48e8-de0f-ffea6a435d0b"
      },
      "execution_count": null,
      "outputs": [
        {
          "output_type": "stream",
          "name": "stdout",
          "text": [
            "LR scores: [1. 1. 1. 1. 1. 1. 1. 1. 1. 1.]\n",
            "LR Mean: 1.0\n",
            "LR SD: 0.0\n"
          ]
        }
      ]
    },
    {
      "cell_type": "code",
      "source": [
        "treeResults = cross_validate(treeModel, X_train, np.ravel(y_train), cv=kf)\n",
        "treeScores = treeResults['test_score']\n",
        "\n",
        "print('tree scores:', treeScores.round(3))\n",
        "print('tree Mean:', treeScores.mean().round(3))\n",
        "print('tree SD:', treeScores.std().round(3))"
      ],
      "metadata": {
        "colab": {
          "base_uri": "https://localhost:8080/"
        },
        "id": "nQow3NBnys34",
        "outputId": "8bc5c8aa-27f2-441c-c96f-aabc2fc37d92"
      },
      "execution_count": null,
      "outputs": [
        {
          "output_type": "stream",
          "name": "stdout",
          "text": [
            "tree scores: [1. 1. 1. 1. 1. 1. 1. 1. 1. 1.]\n",
            "tree Mean: 1.0\n",
            "tree SD: 0.0\n"
          ]
        }
      ]
    },
    {
      "cell_type": "code",
      "source": [
        "svcResults = cross_validate(svcModel, X_train, np.ravel(y_train), cv=kf)\n",
        "svcScores = svcResults['test_score']\n",
        "\n",
        "print('svc scores:', svcScores.round(3))\n",
        "print('svc Mean:', svcScores.mean().round(3))\n",
        "print('svc SD:', svcScores.std().round(3))"
      ],
      "metadata": {
        "colab": {
          "base_uri": "https://localhost:8080/"
        },
        "id": "n9zp6nx5ymTt",
        "outputId": "7feab208-95eb-47f9-9122-470f52053e42"
      },
      "execution_count": null,
      "outputs": [
        {
          "output_type": "stream",
          "name": "stdout",
          "text": [
            "svc scores: [1. 1. 1. 1. 1. 1. 1. 1. 1. 1.]\n",
            "svc Mean: 1.0\n",
            "svc SD: 0.0\n"
          ]
        }
      ]
    }
  ]
}